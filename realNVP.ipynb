{
  "nbformat": 4,
  "nbformat_minor": 0,
  "metadata": {
    "colab": {
      "name": "Copy of realNVP.ipynb",
      "version": "0.3.2",
      "provenance": [],
      "collapsed_sections": []
    },
    "kernelspec": {
      "name": "python3",
      "display_name": "Python 3"
    },
    "accelerator": "GPU"
  },
  "cells": [
    {
      "cell_type": "code",
      "metadata": {
        "id": "-B4wLia3jkxp",
        "colab_type": "code",
        "colab": {}
      },
      "source": [
        "#basic interface of invertible net, invertible generator, and stacking invertible nets\n",
        "import torch\n",
        "\n",
        "class FlowModule(torch.nn.Module):\n",
        "  \n",
        "  def __init__(self, *args):\n",
        "    super(FlowModule, self).__init__()\n",
        "\n",
        "  def inverse(self, *input):\n",
        "  #returns value of latent variable, as well as the logarithm of the absolute value of the determinant of the Jacobian\n",
        "    raise NotImplementedError\n",
        "\n",
        "class FlowGenerator(torch.nn.Module):\n",
        "\n",
        "  def __init__(self, net, prior):\n",
        "    assert(isinstance(net, FlowModule))\n",
        "    assert(isinstance(prior, torch.distributions.distribution.Distribution))\n",
        "    super(FlowGenerator, self).__init__()\n",
        "    self._net = net\n",
        "    self._prior = prior\n",
        "    \n",
        "  def forward(self, n):\n",
        "  #sample n times\n",
        "    x = self._prior.sample(torch.Size([n]))\n",
        "    x = self._net(x)\n",
        "    return x\n",
        "\n",
        "  def log_p(self, x):\n",
        "    z, log_abs_det = self._net.inverse(x)\n",
        "    return prior.log_prob(z) + log_abs_det\n",
        "  \n",
        "  def crossentropy_loss(self, x):\n",
        "    return -1. * (self.log_p(x)).mean()\n",
        "\n",
        "class FlowStack(torch.nn.Sequential, FlowModule):\n",
        "  \n",
        "  def __init__(self, *args):\n",
        "    for net in args:\n",
        "      assert(isinstance(net, FlowModule))\n",
        "    super(FlowStack, self).__init__(*args)\n",
        "\n",
        "  def inverse(self, input):\n",
        "    log_abs_det = 0.\n",
        "    for module in reversed(self._modules.values()):\n",
        "      input, delta = module.inverse(input)\n",
        "      log_abs_det += delta\n",
        "    return input, log_abs_det"
      ],
      "execution_count": 0,
      "outputs": []
    },
    {
      "cell_type": "code",
      "metadata": {
        "id": "1S9kSpvdl8S0",
        "colab_type": "code",
        "colab": {}
      },
      "source": [
        "#coupling layer from realNVP paper\n",
        "import torch\n",
        "\n",
        "class CouplingLayer(FlowModule):\n",
        "  \n",
        "  def __init__(self, s, t, mask):\n",
        "    assert(isinstance(s, torch.nn.Module))\n",
        "    assert(isinstance(t, torch.nn.Module))\n",
        "    assert(isinstance(mask, torch.ByteTensor))\n",
        "    super(CouplingLayer, self).__init__()\n",
        "    self._s = s\n",
        "    self._t = t\n",
        "    self.register_buffer(\"mask\", mask)\n",
        "    \n",
        "  def forward(self, x):\n",
        "    x_ = torch.where(self.mask, x, torch.zeros_like(x))\n",
        "    scale = torch.where(~self.mask, self._s(x_), torch.zeros_like(x_))\n",
        "    trans = torch.where(~self.mask, self._t(x_), torch.zeros_like(x_))\n",
        "    x = torch.where(~self.mask, x * torch.exp(scale) + trans, x_)\n",
        "    return x\n",
        "  \n",
        "  def inverse(self, x):\n",
        "    x_ = torch.where(self.mask, x, torch.zeros_like(x))\n",
        "    scale = torch.where(~self.mask, self._s(x_), torch.zeros_like(x_))\n",
        "    trans = torch.where(~self.mask, self._t(x_), torch.zeros_like(x_))\n",
        "    x = torch.where(~self.mask, (x - trans) * torch.exp(-1. * scale), x_)\n",
        "    log_det = -1. * scale.sum(dim=1)\n",
        "    return x, log_det"
      ],
      "execution_count": 0,
      "outputs": []
    },
    {
      "cell_type": "code",
      "metadata": {
        "id": "yK3107-fGbbq",
        "colab_type": "code",
        "colab": {}
      },
      "source": [
        "#helper functions for initialization of (stacks of) coupling layers\n",
        "import torch\n",
        "\n",
        "def create_mask(n, p=0.5):\n",
        "  idx = torch.randperm(n).byte()\n",
        "  mask = torch.where(idx > p * (n - 1), torch.ones_like(idx), torch.zeros_like(idx))\n",
        "  return mask\n",
        "\n",
        "def create_t(n, h=[256,256]):\n",
        "  net = torch.nn.Linear(n, h[0])\n",
        "  for layer in range(1, len(h)):\n",
        "    net = torch.nn.Sequential(net, torch.nn.LeakyReLU(), torch.nn.Linear(h[layer-1], h[layer]))\n",
        "  net = torch.nn.Sequential(net, torch.nn.LeakyReLU(), torch.nn.Linear(h[-1], n))\n",
        "  return net\n",
        "\n",
        "def create_s(n, h=[256,256]):\n",
        "  net = create_t(n, h)\n",
        "  net = torch.nn.Sequential(net, torch.nn.Tanh())\n",
        "  return net\n",
        "  \n",
        "def create_2cl(n, p=0.5, ht=[256,256], hs=[256,256]):\n",
        "  mask = create_mask(n, p)\n",
        "  t1 = create_t(n, ht)\n",
        "  t2 = create_t(n, ht)\n",
        "  s1 = create_s(n, hs)\n",
        "  s2 = create_s(n, hs)\n",
        "  cl1 = CouplingLayer(s1, t1, mask)\n",
        "  cl2 = CouplingLayer(s2, t2, ~mask)\n",
        "  return FlowStack(cl1, cl2)\n",
        "\n",
        "def create_flownet(n, d=3, p=None, ht=None, hs=None):\n",
        "  if p is None: p = [0.5] * d\n",
        "  if ht is None: ht = [[256,256]] * d\n",
        "  if hs is None: hs = [[256,256]] * d\n",
        "  assert(len(p) == len(ht) == len(hs) == d)\n",
        "  net = create_2cl(n, p[0], ht[0], hs[0])\n",
        "  for i in range(1, d):\n",
        "    net = FlowStack(net, create_2cl(n, p[i], ht[i], hs[i]))\n",
        "  return net"
      ],
      "execution_count": 0,
      "outputs": []
    },
    {
      "cell_type": "code",
      "metadata": {
        "id": "3a0qJSdqKuy0",
        "colab_type": "code",
        "colab": {
          "base_uri": "https://localhost:8080/",
          "height": 187
        },
        "outputId": "5d72065c-f2cb-4a40-ad2c-003b44146351"
      },
      "source": [
        "#main cell\n",
        "device = torch.device(\"cuda\")\n",
        "n = 2\n",
        "mynet = create_flownet(n)\n",
        "prior = torch.distributions.MultivariateNormal(torch.zeros(n).to(device), torch.eye(n).to(device))\n",
        "mygen = FlowGenerator(mynet, prior).to(device)\n",
        "optimizer = torch.optim.Adam(mygen.parameters())\n",
        "batches = 5000\n",
        "batchsize = 100\n",
        "\n",
        "import sklearn.datasets\n",
        "import numpy\n",
        "\n",
        "for t in range(batches):\n",
        "  noisy_moons = torch.from_numpy(sklearn.datasets.make_moons(n_samples=batchsize, noise=0.05)[0].astype(numpy.float32)).to(device)\n",
        "  #we need noise because target distribution needs to be smooth enough for our model to fit\n",
        "  loss = mygen.crossentropy_loss(noisy_moons)\n",
        "  optimizer.zero_grad()\n",
        "  loss.backward()\n",
        "  if (t%500 == 0):\n",
        "    print(t, loss.item())\n",
        "  optimizer.step()"
      ],
      "execution_count": 6,
      "outputs": [
        {
          "output_type": "stream",
          "text": [
            "0 2.493985652923584\n",
            "500 0.6992393136024475\n",
            "1000 1.0623993873596191\n",
            "1500 0.6122843623161316\n",
            "2000 0.6103793382644653\n",
            "2500 0.4893724322319031\n",
            "3000 0.5356952548027039\n",
            "3500 0.5507103800773621\n",
            "4000 0.4138577878475189\n",
            "4500 0.32981327176094055\n"
          ],
          "name": "stdout"
        }
      ]
    },
    {
      "cell_type": "code",
      "metadata": {
        "id": "4KSErbKNhDq0",
        "colab_type": "code",
        "colab": {
          "base_uri": "https://localhost:8080/",
          "height": 286
        },
        "outputId": "6716410c-47ff-43b1-ecc5-3c1478accdac"
      },
      "source": [
        "import matplotlib.pyplot as plt\n",
        "\n",
        "x = mygen(1000).detach().cpu().numpy()\n",
        "plt.scatter(x[:,0], x[:,1])"
      ],
      "execution_count": 7,
      "outputs": [
        {
          "output_type": "execute_result",
          "data": {
            "text/plain": [
              "<matplotlib.collections.PathCollection at 0x7f641d100828>"
            ]
          },
          "metadata": {
            "tags": []
          },
          "execution_count": 7
        },
        {
          "output_type": "display_data",
          "data": {
            "image/png": "[encoded data removed]",
            "text/plain": [
              "<Figure size 432x288 with 1 Axes>"
            ]
          },
          "metadata": {
            "tags": []
          }
        }
      ]
    },
    {
      "cell_type": "code",
      "metadata": {
        "id": "iZb7HmAfKMJ7",
        "colab_type": "code",
        "colab": {}
      },
      "source": [
        ""
      ],
      "execution_count": 0,
      "outputs": []
    }
  ]
}